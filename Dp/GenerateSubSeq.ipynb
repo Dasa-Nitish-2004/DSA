{
 "cells": [
  {
   "cell_type": "code",
   "execution_count": 4,
   "id": "c6e879d3",
   "metadata": {},
   "outputs": [
    {
     "data": {
      "text/plain": [
       "[[1, 2, 3, 4],\n",
       " [1, 2, 3],\n",
       " [1, 2, 4],\n",
       " [1, 2],\n",
       " [1, 3, 4],\n",
       " [1, 3],\n",
       " [1, 4],\n",
       " [1],\n",
       " [2, 3, 4],\n",
       " [2, 3],\n",
       " [2, 4],\n",
       " [2],\n",
       " [3, 4],\n",
       " [3],\n",
       " [4],\n",
       " []]"
      ]
     },
     "execution_count": 4,
     "metadata": {},
     "output_type": "execute_result"
    }
   ],
   "source": [
    "nums = [1, 2, 3, 4]\n",
    "output = []\n",
    "def rec(i, stack):\n",
    "    if i == len(nums):\n",
    "        output.append(stack.copy())\n",
    "        return\n",
    "    stack.append(nums[i])\n",
    "    rec(i + 1, stack)\n",
    "    stack.pop()\n",
    "    rec(i + 1, stack)\n",
    "rec(0, [])\n",
    "# print(len(output))\n",
    "output"
   ]
  }
 ],
 "metadata": {
  "kernelspec": {
   "display_name": "base",
   "language": "python",
   "name": "python3"
  },
  "language_info": {
   "codemirror_mode": {
    "name": "ipython",
    "version": 3
   },
   "file_extension": ".py",
   "mimetype": "text/x-python",
   "name": "python",
   "nbconvert_exporter": "python",
   "pygments_lexer": "ipython3",
   "version": "3.12.4"
  }
 },
 "nbformat": 4,
 "nbformat_minor": 5
}
