{
 "cells": [
  {
   "cell_type": "markdown",
   "id": "f9d386bc",
   "metadata": {},
   "source": [
    "### BFS of graph gfg"
   ]
  },
  {
   "cell_type": "code",
   "execution_count": null,
   "id": "8aa68dc3",
   "metadata": {},
   "outputs": [],
   "source": [
    "class Solution:\n",
    "    # Function to return Breadth First Search Traversal of given graph.\n",
    "    def bfs(self, adj):\n",
    "        # code here\n",
    "        visited = [0]*len(adj)\n",
    "        output = []\n",
    "        queue = [0]\n",
    "        visited[0]= 1\n",
    "        while queue:\n",
    "            n = len(queue)\n",
    "            for i in range(n):\n",
    "                node = queue.pop(0)\n",
    "                output.append(node)\n",
    "                for i in adj[node]:\n",
    "                    if not visited[i]:\n",
    "                        visited[i] = 1\n",
    "                        queue.append(i)\n",
    "        return output"
   ]
  },
  {
   "cell_type": "markdown",
   "id": "9309cb89",
   "metadata": {},
   "source": [
    "### DFS of Graph gfg"
   ]
  },
  {
   "cell_type": "code",
   "execution_count": null,
   "id": "c5870d63",
   "metadata": {},
   "outputs": [],
   "source": [
    "class Solution:\n",
    "    \n",
    "    #Function to return a list containing the DFS traversal of the graph.\n",
    "    def dfs(self, adj):\n",
    "        # code here\n",
    "        self.visited = [0]*len(adj)\n",
    "        self.output = []\n",
    "        def rec(node):\n",
    "            self.visited[node] = 1\n",
    "            self.output.append(node)\n",
    "            for i in adj[node]:\n",
    "                if not self.visited[i]:\n",
    "                    rec(i)\n",
    "        \n",
    "        rec(0)\n",
    "        \n",
    "        return self.output"
   ]
  },
  {
   "cell_type": "markdown",
   "id": "05e13e11",
   "metadata": {},
   "source": [
    "### Number of Provinces gfg\n"
   ]
  },
  {
   "cell_type": "code",
   "execution_count": null,
   "id": "194ecede",
   "metadata": {},
   "outputs": [],
   "source": [
    "class Solution:\n",
    "    def numProvinces(self, adj, V):\n",
    "        # code here \n",
    "        # print(adj) #[[1, 0, 1], [0, 1, 0], [1, 0, 1]]\n",
    "        # print(V) # 3\n",
    "        self.visited = [0]*V\n",
    "        def dfs(node):\n",
    "            self.visited[node] = 1\n",
    "            for ind, val in enumerate(adj[node]):\n",
    "                if val != 0 and not self.visited[ind]:\n",
    "                    self.visited[ind] = 1\n",
    "                    dfs(ind)\n",
    "        \n",
    "        groups = 0\n",
    "        for i in range(V):\n",
    "            if self.visited[i] == 0:\n",
    "                groups+=1\n",
    "                dfs(i)\n",
    "        return groups"
   ]
  },
  {
   "cell_type": "markdown",
   "id": "73abab34",
   "metadata": {},
   "source": []
  },
  {
   "cell_type": "code",
   "execution_count": null,
   "id": "67bbbb29",
   "metadata": {},
   "outputs": [],
   "source": [
    "class Solution(object):\n",
    "    def numIslands(self, grid):\n",
    "        \"\"\"\n",
    "        :type grid: List[List[str]]\n",
    "        :rtype: int\n",
    "        \"\"\"\n",
    "        visited = [[0 for _ in range(len(grid[0]))] for _ in range(len(grid))]\n",
    "        \n",
    "        def isValid(i,j):\n",
    "            if i<0 or j<0:\n",
    "                return False\n",
    "            if i < len(grid) and j<len(grid[0]) and visited[i][j] == 0 and grid[i][j] == \"1\":\n",
    "                visited[i][j] = 1\n",
    "                return True\n",
    "            return False\n",
    "\n",
    "        def bfs(i,j):\n",
    "            visited[i][j] = 1\n",
    "            stack = [(i,j)]\n",
    "            while stack:\n",
    "                n = len(stack)\n",
    "                for _ in range(n):\n",
    "                    ele = stack.pop(0)\n",
    "                    for m in range(-1,2):\n",
    "                        for n in range(-1,2):\n",
    "                            if m == 0 or n == 0: # used to limit to horizontal and vertical. if diagonal too required remove condition\n",
    "                                if isValid(ele[0]+m,ele[1]-n):\n",
    "                                    stack.append((ele[0]+m,ele[1]-n))\n",
    "\n",
    "                    \n",
    "\n",
    "\n",
    "\n",
    "        islands = 0\n",
    "        \n",
    "        # consider initially all elements are starting of island. filter on going\n",
    "        \n",
    "        for i in range(len(grid)):\n",
    "            for j in range(len(grid[0])): \n",
    "                if grid[i][j] == \"1\" and visited[i][j] == 0: # if land and not visited\n",
    "                    islands+=1\n",
    "                    bfs(i,j)\n",
    "        return islands\n",
    "        "
   ]
  },
  {
   "cell_type": "markdown",
   "id": "58a27053",
   "metadata": {},
   "source": [
    "### 733. Flood Fill leetCode"
   ]
  },
  {
   "cell_type": "code",
   "execution_count": null,
   "id": "0a8d27e8",
   "metadata": {},
   "outputs": [],
   "source": [
    "class Solution(object):\n",
    "    def floodFill(self, image, sr, sc, color):\n",
    "        init_color = image[sr][sc]\n",
    "        if init_color == color:\n",
    "            return image\n",
    "\n",
    "        def isValid(i, j):\n",
    "            return 0 <= i < len(image) and 0 <= j < len(image[0]) and image[i][j] == init_color\n",
    "\n",
    "        def bfs(i, j):\n",
    "            queue = [(i, j)]\n",
    "            image[i][j] = color\n",
    "            while queue:\n",
    "                x, y = queue.pop(0)\n",
    "                for dx, dy in [(-1, 0), (1, 0), (0, -1), (0, 1)]:\n",
    "                    new_x, new_y = x + dx, y + dy\n",
    "                    if isValid(new_x, new_y):\n",
    "                        image[new_x][new_y] = color\n",
    "                        queue.append((new_x, new_y))\n",
    "\n",
    "        bfs(sr, sc)\n",
    "        return image\n"
   ]
  },
  {
   "cell_type": "markdown",
   "id": "4ac4ddc3",
   "metadata": {},
   "source": [
    "### 994. Rotting Oranges"
   ]
  },
  {
   "cell_type": "code",
   "execution_count": null,
   "id": "129c0f31",
   "metadata": {},
   "outputs": [],
   "source": [
    "class Solution:\n",
    "    def orangesRotting(self, grid: List[List[int]]) -> int:\n",
    "        time = 0\n",
    "        queue = []\n",
    "        n = len(grid)\n",
    "        m = len(grid[0])\n",
    "        fresh_oranges = 0        \n",
    "        def isValid(i,j):\n",
    "            return 0 <= i < len(grid) and 0 <= j < len(grid[0]) and grid[i][j] == 1\n",
    "\n",
    "        for i in range(n):\n",
    "            for j in range(m):\n",
    "                if grid[i][j] == 2:\n",
    "                    queue.append((i,j,0)) # row,col,time\n",
    "                elif grid[i][j] == 1:\n",
    "                    fresh_oranges+=1\n",
    "        \n",
    "        while queue:\n",
    "            for _ in range(len(queue)):\n",
    "                x,y,t = queue.pop(0)\n",
    "                time = max(time,t)\n",
    "                for i,j in [[0,-1],[0,1],[1,0],[-1,0]]:\n",
    "                    if isValid(x+i,y+j):\n",
    "                        grid[x+i][y+j] = 2\n",
    "                        queue.append((x+i,y+j,t+1))\n",
    "                        fresh_oranges-=1\n",
    "        if fresh_oranges > 0:\n",
    "            return -1\n",
    "        return time"
   ]
  },
  {
   "cell_type": "markdown",
   "id": "afc747fc",
   "metadata": {},
   "source": [
    "### Undirected Graph Cycle gfg"
   ]
  },
  {
   "cell_type": "code",
   "execution_count": null,
   "id": "e03993c3",
   "metadata": {},
   "outputs": [],
   "source": [
    "class Solution:\n",
    "    def isCycle(self, V, edges):\n",
    "        visited = [0] * V\n",
    "        adj = {}\n",
    "\n",
    "        # Build adjacency list\n",
    "        for u, v in edges:\n",
    "            adj.setdefault(u, []).append(v)\n",
    "            adj.setdefault(v, []).append(u)\n",
    "\n",
    "        # BFS for cycle detection\n",
    "        def bfs(i):\n",
    "            queue = [(i, -1)]\n",
    "            visited[i] = 1\n",
    "            while queue:\n",
    "                curr, parent = queue.pop(0)\n",
    "                for neighbor in adj.get(curr, []):\n",
    "                    if not visited[neighbor]:\n",
    "                        visited[neighbor] = 1\n",
    "                        queue.append((neighbor, curr))\n",
    "                    elif neighbor != parent:\n",
    "                        return True\n",
    "            return False\n",
    "\n",
    "        for i in range(V):\n",
    "            if not visited[i]:\n",
    "                if bfs(i):\n",
    "                    return True\n",
    "        return False"
   ]
  }
 ],
 "metadata": {
  "kernelspec": {
   "display_name": "base",
   "language": "python",
   "name": "python3"
  },
  "language_info": {
   "name": "python",
   "version": "3.12.4"
  }
 },
 "nbformat": 4,
 "nbformat_minor": 5
}
