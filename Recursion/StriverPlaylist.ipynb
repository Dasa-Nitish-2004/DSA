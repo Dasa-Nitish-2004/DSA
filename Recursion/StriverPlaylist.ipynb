{
 "cells": [
  {
   "cell_type": "markdown",
   "id": "e5544f26",
   "metadata": {},
   "source": [
    "# problem 39 Leetcode"
   ]
  },
  {
   "cell_type": "code",
   "execution_count": 4,
   "id": "94c287ed",
   "metadata": {},
   "outputs": [
    {
     "name": "stdout",
     "output_type": "stream",
     "text": [
      "[[2, 2, 3], [7]]\n"
     ]
    }
   ],
   "source": [
    "output = []\n",
    "arr = [2,3,6,7]\n",
    "target = 7\n",
    "def RecFunc(ind,currentTarget,stack):\n",
    "    if ind == len(arr):\n",
    "        return\n",
    "    if currentTarget == 0:\n",
    "        output.append(stack.copy())\n",
    "        return\n",
    "    if currentTarget >= arr[ind] :\n",
    "        stack.append(arr[ind])\n",
    "        RecFunc(ind,currentTarget-arr[ind],stack)\n",
    "        stack.pop() \n",
    "    RecFunc(ind+1,currentTarget,stack)\n",
    "RecFunc(0,target,[])\n",
    "print(output)"
   ]
  },
  {
   "cell_type": "markdown",
   "id": "8b097806",
   "metadata": {},
   "source": [
    "# problem 40 Leetcode // same as above but only single repeatation"
   ]
  },
  {
   "cell_type": "code",
   "execution_count": null,
   "id": "e7afc926",
   "metadata": {},
   "outputs": [
    {
     "name": "stdout",
     "output_type": "stream",
     "text": [
      "False\n"
     ]
    }
   ],
   "source": [
    "from typing import List\n",
    "\n",
    "class Solution:\n",
    "    def combinationSum2(self, candidates: List[int], target: int) -> List[List[int]]:\n",
    "        output = []\n",
    "        candidates.sort()\n",
    "        def RecFunc(start, currentTarget, stack):\n",
    "            if currentTarget == 0:\n",
    "                output.append(stack.copy())\n",
    "                return\n",
    "            \n",
    "            for ind in range(start, len(candidates)):\n",
    "                if ind > start and candidates[ind] == candidates[ind - 1]:\n",
    "                    continue\n",
    "                if candidates[ind] > currentTarget:\n",
    "                    break\n",
    "                stack.append(candidates[ind])\n",
    "                RecFunc(ind + 1, currentTarget - candidates[ind], stack)\n",
    "                stack.pop()\n",
    "        RecFunc(0, target, [])\n",
    "        return output"
   ]
  },
  {
   "cell_type": "code",
   "execution_count": 35,
   "id": "8432436e",
   "metadata": {},
   "outputs": [
    {
     "name": "stdout",
     "output_type": "stream",
     "text": [
      "[[1, 2, 5], [1, 7], [1, 6, 1], [2, 6]]\n"
     ]
    }
   ],
   "source": [
    "output = []\n",
    "arr = [10,1,2,7,6,1,5]\n",
    "target = 8\n",
    "output_indices = set()\n",
    "def RecFunc(ind, currentTarget, stack):\n",
    "    if currentTarget == 0:\n",
    "        a = [0]*51\n",
    "        for i in stack:\n",
    "            a[i] +=1\n",
    "        if tuple(a) not in output_indices:\n",
    "            output.append(stack.copy())     \n",
    "            output_indices.add(tuple(a))   \n",
    "        return\n",
    "    if ind == len(arr):\n",
    "        return\n",
    "    if currentTarget >= arr[ind]:\n",
    "        stack.append(arr[ind])\n",
    "        RecFunc(ind+1, currentTarget - arr[ind], stack)\n",
    "        stack.pop()\n",
    "    RecFunc(ind + 1, currentTarget, stack)    \n",
    "RecFunc(0, target, [] )\n",
    "print(output)"
   ]
  },
  {
   "cell_type": "markdown",
   "id": "42b4a54a",
   "metadata": {},
   "source": [
    "# subsets"
   ]
  },
  {
   "cell_type": "code",
   "execution_count": 8,
   "id": "0e4c8f76",
   "metadata": {},
   "outputs": [
    {
     "name": "stdout",
     "output_type": "stream",
     "text": [
      "6 3 4 1 5 2 3 0 "
     ]
    }
   ],
   "source": [
    "a = [1,2,3]\n",
    "output = []\n",
    "def RecFunc(ind, stack):\n",
    "    if ind == len(a):\n",
    "        output.append(stack.copy())\n",
    "        return\n",
    "    stack.append(a[ind])\n",
    "    RecFunc(ind + 1, stack)\n",
    "    stack.pop()\n",
    "    RecFunc(ind + 1, stack)\n",
    "RecFunc(0, [])\n",
    "# print(output)\n",
    "k = map(lambda x: sum(x), output)\n",
    "for i in k:\n",
    "    print(i, end = \" \")"
   ]
  },
  {
   "cell_type": "markdown",
   "id": "a680addc",
   "metadata": {},
   "source": [
    "# subset 2 problem 90"
   ]
  },
  {
   "cell_type": "code",
   "execution_count": 38,
   "id": "768da474",
   "metadata": {},
   "outputs": [
    {
     "name": "stdout",
     "output_type": "stream",
     "text": [
      "[[1, 2, 2], [2, 2]]\n"
     ]
    }
   ],
   "source": [
    "nums = [1, 2, 2]\n",
    "output = []\n",
    "\n",
    "def RecFunc(ind, stack):\n",
    "    # Append the current subset at each level to ensure all subsets are included\n",
    "    if ind == len(nums):\n",
    "        output.append(stack.copy())\n",
    "    \n",
    "    for i in range(ind, len(nums)):\n",
    "        # Skip duplicates at the same recursive level\n",
    "        if i > ind and nums[i] == nums[i - 1]:\n",
    "            continue\n",
    "        stack.append(nums[i])\n",
    "        RecFunc(i + 1, stack)\n",
    "        stack.pop()\n",
    "\n",
    "# Sort the array to handle duplicates efficiently\n",
    "nums.sort()\n",
    "RecFunc(0, [])\n",
    "print(output)"
   ]
  },
  {
   "cell_type": "markdown",
   "id": "be322761",
   "metadata": {},
   "source": [
    "# all  permutations 46"
   ]
  },
  {
   "cell_type": "code",
   "execution_count": 35,
   "id": "13bb629c",
   "metadata": {},
   "outputs": [
    {
     "name": "stdout",
     "output_type": "stream",
     "text": [
      "[[1, 2, 3], [1, 3, 2], [2, 1, 3], [2, 3, 1], [3, 1, 2], [3, 2, 1]]\n"
     ]
    }
   ],
   "source": [
    "nums = [1,3,2]\n",
    "output = []\n",
    "def RecFunc(stack, available):\n",
    "    if len(stack) == len(nums):\n",
    "        output.append(stack.copy())\n",
    "        return\n",
    "    for i in available:\n",
    "        stack.append(i)\n",
    "        RecFunc(stack.copy(), available - {i})\n",
    "        stack.pop()\n",
    "\n",
    "RecFunc([], set(nums))\n",
    "print(output)"
   ]
  },
  {
   "cell_type": "markdown",
   "id": "a2c0ec1f",
   "metadata": {},
   "source": [
    "# N queens"
   ]
  },
  {
   "cell_type": "code",
   "execution_count": 10,
   "id": "6301da97",
   "metadata": {},
   "outputs": [
    {
     "name": "stdout",
     "output_type": "stream",
     "text": [
      "[[1, 3, 5, 0, 2, 4], [2, 5, 1, 4, 0, 3], [3, 0, 4, 1, 5, 2], [4, 2, 0, 5, 3, 1]]\n"
     ]
    }
   ],
   "source": [
    "n = 6\n",
    "board = [[0 for _ in range(n)] for _ in range(n)]\n",
    "output = []\n",
    "def isSafe(row,col,prevPos):\n",
    "    for ind,val in enumerate(prevPos):\n",
    "        if val == -1:\n",
    "            break\n",
    "        else:\n",
    "            if val == row:\n",
    "                return False\n",
    "            if abs(val - row) == abs(ind - col):\n",
    "                return False\n",
    "    return True\n",
    "\n",
    "def RecFunc(col, prevPos):\n",
    "    if col == n:\n",
    "        output.append(prevPos.copy())\n",
    "        return\n",
    "    for row in range(n):\n",
    "        if isSafe(row, col, prevPos):\n",
    "            prevPos[col] = row\n",
    "            RecFunc(col + 1, prevPos)\n",
    "            prevPos[col] = -1\n",
    "\n",
    "RecFunc(0, [-1]*n)\n",
    "print(output)\n"
   ]
  }
 ],
 "metadata": {
  "kernelspec": {
   "display_name": "base",
   "language": "python",
   "name": "python3"
  },
  "language_info": {
   "codemirror_mode": {
    "name": "ipython",
    "version": 3
   },
   "file_extension": ".py",
   "mimetype": "text/x-python",
   "name": "python",
   "nbconvert_exporter": "python",
   "pygments_lexer": "ipython3",
   "version": "3.12.4"
  }
 },
 "nbformat": 4,
 "nbformat_minor": 5
}
